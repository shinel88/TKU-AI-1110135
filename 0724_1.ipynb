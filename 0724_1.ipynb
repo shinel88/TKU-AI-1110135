{
  "nbformat": 4,
  "nbformat_minor": 0,
  "metadata": {
    "colab": {
      "provenance": [],
      "authorship_tag": "ABX9TyNC94ftBBIVB3ro2Mcdgxws",
      "include_colab_link": true
    },
    "kernelspec": {
      "name": "python3",
      "display_name": "Python 3"
    },
    "language_info": {
      "name": "python"
    }
  },
  "cells": [
    {
      "cell_type": "markdown",
      "metadata": {
        "id": "view-in-github",
        "colab_type": "text"
      },
      "source": [
        "<a href=\"https://colab.research.google.com/github/shinel88/TKU-AI-1110135/blob/main/0724_1.ipynb\" target=\"_parent\"><img src=\"https://colab.research.google.com/assets/colab-badge.svg\" alt=\"Open In Colab\"/></a>"
      ]
    },
    {
      "cell_type": "code",
      "execution_count": 1,
      "metadata": {
        "colab": {
          "base_uri": "https://localhost:8080/"
        },
        "id": "qIsbTfq0df91",
        "outputId": "22908175-a974-4855-dfbd-ae57b23674ba"
      },
      "outputs": [
        {
          "output_type": "stream",
          "name": "stdout",
          "text": [
            "我的第一支python檔案\n"
          ]
        }
      ],
      "source": [
        "print('我的第一支python檔案')"
      ]
    },
    {
      "cell_type": "markdown",
      "source": [
        "# 大標題"
      ],
      "metadata": {
        "id": "9nU3KFyrr__j"
      }
    },
    {
      "cell_type": "markdown",
      "source": [
        "##小標題\n"
      ],
      "metadata": {
        "id": "Kb6qB-qnsTIh"
      }
    }
  ]
}