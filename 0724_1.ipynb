{
  "nbformat": 4,
  "nbformat_minor": 0,
  "metadata": {
    "colab": {
      "provenance": [],
      "authorship_tag": "ABX9TyME8C4jHU4ZfNTlFhF698R7",
      "include_colab_link": true
    },
    "kernelspec": {
      "name": "python3",
      "display_name": "Python 3"
    },
    "language_info": {
      "name": "python"
    }
  },
  "cells": [
    {
      "cell_type": "markdown",
      "metadata": {
        "id": "view-in-github",
        "colab_type": "text"
      },
      "source": [
        "<a href=\"https://colab.research.google.com/github/shinel88/TKU-AI-1110135/blob/main/0724_1.ipynb\" target=\"_parent\"><img src=\"https://colab.research.google.com/assets/colab-badge.svg\" alt=\"Open In Colab\"/></a>"
      ]
    },
    {
      "cell_type": "code",
      "execution_count": 17,
      "metadata": {
        "colab": {
          "base_uri": "https://localhost:8080/"
        },
        "id": "qIsbTfq0df91",
        "outputId": "af34d8ad-32ef-4491-e1b2-64f779f9c320"
      },
      "outputs": [
        {
          "output_type": "stream",
          "name": "stdout",
          "text": [
            "我的第一支python檔案\n"
          ]
        }
      ],
      "source": [
        "print('我的第一支python檔案')"
      ]
    },
    {
      "cell_type": "markdown",
      "source": [
        "# 大標題"
      ],
      "metadata": {
        "id": "9nU3KFyrr__j"
      }
    },
    {
      "cell_type": "markdown",
      "source": [
        "##小標題\n"
      ],
      "metadata": {
        "id": "Kb6qB-qnsTIh"
      }
    },
    {
      "cell_type": "code",
      "source": [
        "a = 20\n",
        "a"
      ],
      "metadata": {
        "colab": {
          "base_uri": "https://localhost:8080/"
        },
        "id": "COgPBMXL34aS",
        "outputId": "1f3727ec-2d1a-46ac-f53d-3eb6c05ae1c8"
      },
      "execution_count": 18,
      "outputs": [
        {
          "output_type": "execute_result",
          "data": {
            "text/plain": [
              "20"
            ]
          },
          "metadata": {},
          "execution_count": 18
        }
      ]
    },
    {
      "cell_type": "code",
      "source": [
        "b = a\n",
        "a,b"
      ],
      "metadata": {
        "colab": {
          "base_uri": "https://localhost:8080/"
        },
        "id": "cgB4uzhj4aJ6",
        "outputId": "6471fe63-75fc-4135-b56c-667d726a68d8"
      },
      "execution_count": 19,
      "outputs": [
        {
          "output_type": "execute_result",
          "data": {
            "text/plain": [
              "(20, 20)"
            ]
          },
          "metadata": {},
          "execution_count": 19
        }
      ]
    },
    {
      "cell_type": "code",
      "source": [
        "age, name = 16, 'shine'\n",
        "age, name"
      ],
      "metadata": {
        "colab": {
          "base_uri": "https://localhost:8080/"
        },
        "id": "FtpJvTUU4gfq",
        "outputId": "00535f35-e4db-4ad1-f20a-ee17b4aa74a6"
      },
      "execution_count": 20,
      "outputs": [
        {
          "output_type": "execute_result",
          "data": {
            "text/plain": [
              "(16, 'shine')"
            ]
          },
          "metadata": {},
          "execution_count": 20
        }
      ]
    },
    {
      "cell_type": "code",
      "source": [
        "c = d = e = f = 50\n",
        "c + d + e + f"
      ],
      "metadata": {
        "colab": {
          "base_uri": "https://localhost:8080/"
        },
        "id": "EVPlMXeA413J",
        "outputId": "1e372930-6e09-4610-a066-16bf10b0ef94"
      },
      "execution_count": 21,
      "outputs": [
        {
          "output_type": "execute_result",
          "data": {
            "text/plain": [
              "200"
            ]
          },
          "metadata": {},
          "execution_count": 21
        }
      ]
    },
    {
      "cell_type": "code",
      "source": [
        "c, d, e, f"
      ],
      "metadata": {
        "colab": {
          "base_uri": "https://localhost:8080/"
        },
        "id": "eFOj_Rvg5E3I",
        "outputId": "fc737024-2372-45fe-91d5-be232bcd13cb"
      },
      "execution_count": 22,
      "outputs": [
        {
          "output_type": "execute_result",
          "data": {
            "text/plain": [
              "(50, 50, 50, 50)"
            ]
          },
          "metadata": {},
          "execution_count": 22
        }
      ]
    },
    {
      "cell_type": "code",
      "source": [
        "a = b = c = d = e = f = 60"
      ],
      "metadata": {
        "id": "E5xJ5KyO6DlY"
      },
      "execution_count": 23,
      "outputs": []
    },
    {
      "cell_type": "code",
      "source": [
        "a"
      ],
      "metadata": {
        "colab": {
          "base_uri": "https://localhost:8080/"
        },
        "id": "j_qL2x436ODo",
        "outputId": "5c90d815-f144-47a6-f06e-d793dfd310f5"
      },
      "execution_count": 24,
      "outputs": [
        {
          "output_type": "execute_result",
          "data": {
            "text/plain": [
              "60"
            ]
          },
          "metadata": {},
          "execution_count": 24
        }
      ]
    },
    {
      "cell_type": "code",
      "source": [
        "日期 = 724"
      ],
      "metadata": {
        "id": "X4SLbkkc7M2G"
      },
      "execution_count": 25,
      "outputs": []
    },
    {
      "cell_type": "code",
      "source": [
        "日期"
      ],
      "metadata": {
        "colab": {
          "base_uri": "https://localhost:8080/"
        },
        "id": "T3hAVkvl7c89",
        "outputId": "f36fafdf-b574-4ef7-82b0-9a134d55313a"
      },
      "execution_count": 26,
      "outputs": [
        {
          "output_type": "execute_result",
          "data": {
            "text/plain": [
              "724"
            ]
          },
          "metadata": {},
          "execution_count": 26
        }
      ]
    },
    {
      "cell_type": "code",
      "source": [
        "G = H = I = J = K = 60"
      ],
      "metadata": {
        "id": "2jdo52b07lrm"
      },
      "execution_count": 27,
      "outputs": []
    },
    {
      "cell_type": "code",
      "source": [
        "g = h = i = j = k = 50"
      ],
      "metadata": {
        "id": "3PbaNg-t72-N"
      },
      "execution_count": 28,
      "outputs": []
    },
    {
      "cell_type": "code",
      "source": [
        "g, h, i, j, k"
      ],
      "metadata": {
        "colab": {
          "base_uri": "https://localhost:8080/"
        },
        "id": "DIh7AwXA7_1G",
        "outputId": "a69b6eae-61e7-4f41-c73e-588d517a784d"
      },
      "execution_count": 29,
      "outputs": [
        {
          "output_type": "execute_result",
          "data": {
            "text/plain": [
              "(50, 50, 50, 50, 50)"
            ]
          },
          "metadata": {},
          "execution_count": 29
        }
      ]
    },
    {
      "cell_type": "code",
      "source": [
        "g+h+i+j+k+G+H+I+J+K"
      ],
      "metadata": {
        "colab": {
          "base_uri": "https://localhost:8080/"
        },
        "id": "rmmyuI3e8FyQ",
        "outputId": "a41b2d48-bcd7-48dd-c377-dc63a8fddf24"
      },
      "execution_count": 30,
      "outputs": [
        {
          "output_type": "execute_result",
          "data": {
            "text/plain": [
              "550"
            ]
          },
          "metadata": {},
          "execution_count": 30
        }
      ]
    },
    {
      "cell_type": "code",
      "source": [
        "'''\n",
        "l = 1\n",
        "#新增一個變數\n",
        "m = 2\n",
        "n = 3\n",
        "'''"
      ],
      "metadata": {
        "colab": {
          "base_uri": "https://localhost:8080/",
          "height": 35
        },
        "id": "-GQQ7Skg8707",
        "outputId": "f5fd2382-bf39-4b50-80b9-e4bbcc5eb63a"
      },
      "execution_count": 31,
      "outputs": [
        {
          "output_type": "execute_result",
          "data": {
            "text/plain": [
              "'\\nl = 1\\n#新增一個變數\\nm = 2\\nn = 3\\n'"
            ],
            "application/vnd.google.colaboratory.intrinsic+json": {
              "type": "string"
            }
          },
          "metadata": {},
          "execution_count": 31
        }
      ]
    },
    {
      "cell_type": "code",
      "source": [
        "str1 = 'hi'\n",
        "str1"
      ],
      "metadata": {
        "colab": {
          "base_uri": "https://localhost:8080/",
          "height": 35
        },
        "id": "t3zHhXkI_csJ",
        "outputId": "b0cd094d-997a-4b89-fc1e-50d71bc5738f"
      },
      "execution_count": 32,
      "outputs": [
        {
          "output_type": "execute_result",
          "data": {
            "text/plain": [
              "'hi'"
            ],
            "application/vnd.google.colaboratory.intrinsic+json": {
              "type": "string"
            }
          },
          "metadata": {},
          "execution_count": 32
        }
      ]
    },
    {
      "cell_type": "code",
      "source": [
        "str2 = \"hi\"\n",
        "str2"
      ],
      "metadata": {
        "colab": {
          "base_uri": "https://localhost:8080/",
          "height": 35
        },
        "id": "XqlbiZFG_pJZ",
        "outputId": "a8e38cc9-045a-4b4b-a3f5-39276428b717"
      },
      "execution_count": 33,
      "outputs": [
        {
          "output_type": "execute_result",
          "data": {
            "text/plain": [
              "'hi'"
            ],
            "application/vnd.google.colaboratory.intrinsic+json": {
              "type": "string"
            }
          },
          "metadata": {},
          "execution_count": 33
        }
      ]
    },
    {
      "cell_type": "code",
      "source": [
        "str3 = '祥恩說:\"Hey你好\"'\n",
        "str4 = \"祥恩說:'Hey你好'\"\n",
        "str3"
      ],
      "metadata": {
        "colab": {
          "base_uri": "https://localhost:8080/",
          "height": 35
        },
        "id": "bgf-u38aABLx",
        "outputId": "85ed91c2-c63b-4358-e307-92a8ea1ec291"
      },
      "execution_count": 34,
      "outputs": [
        {
          "output_type": "execute_result",
          "data": {
            "text/plain": [
              "'祥恩說:\"Hey你好\"'"
            ],
            "application/vnd.google.colaboratory.intrinsic+json": {
              "type": "string"
            }
          },
          "metadata": {},
          "execution_count": 34
        }
      ]
    },
    {
      "cell_type": "code",
      "source": [
        "str4"
      ],
      "metadata": {
        "colab": {
          "base_uri": "https://localhost:8080/",
          "height": 35
        },
        "id": "PX5Xh3vfAbBg",
        "outputId": "e10d0a3e-47fe-4242-98af-693be30933db"
      },
      "execution_count": 35,
      "outputs": [
        {
          "output_type": "execute_result",
          "data": {
            "text/plain": [
              "\"祥恩說:'Hey你好'\""
            ],
            "application/vnd.google.colaboratory.intrinsic+json": {
              "type": "string"
            }
          },
          "metadata": {},
          "execution_count": 35
        }
      ]
    },
    {
      "cell_type": "code",
      "source": [
        "print(type(25))\n",
        "print(type(52.36987))\n",
        "print(type('124545'))\n",
        "print(type(True))\n",
        "print(type(25))\n",
        "print(type(52.36987))\n",
        "print(type('124545'))\n",
        "print(type(True))"
      ],
      "metadata": {
        "colab": {
          "base_uri": "https://localhost:8080/"
        },
        "id": "xYHcsOm9YKrs",
        "outputId": "379442a2-d28a-49e4-ab60-21d56c08a8dd"
      },
      "execution_count": 36,
      "outputs": [
        {
          "output_type": "stream",
          "name": "stdout",
          "text": [
            "<class 'int'>\n",
            "<class 'float'>\n",
            "<class 'str'>\n",
            "<class 'bool'>\n",
            "<class 'int'>\n",
            "<class 'float'>\n",
            "<class 'str'>\n",
            "<class 'bool'>\n"
          ]
        }
      ]
    },
    {
      "cell_type": "code",
      "source": [
        "num = 1 + 1.1\n",
        "num"
      ],
      "metadata": {
        "colab": {
          "base_uri": "https://localhost:8080/"
        },
        "id": "LyUIUT1dZ1iY",
        "outputId": "b8834907-5152-44cf-84ed-a14a9422867a"
      },
      "execution_count": 37,
      "outputs": [
        {
          "output_type": "execute_result",
          "data": {
            "text/plain": [
              "2.1"
            ]
          },
          "metadata": {},
          "execution_count": 37
        }
      ]
    },
    {
      "cell_type": "code",
      "source": [
        "num2 = int(num)\n",
        "num2"
      ],
      "metadata": {
        "colab": {
          "base_uri": "https://localhost:8080/"
        },
        "id": "KBvJ-8uGatPR",
        "outputId": "16fd32ae-df3f-49f1-de7a-661fb3246ce2"
      },
      "execution_count": 38,
      "outputs": [
        {
          "output_type": "execute_result",
          "data": {
            "text/plain": [
              "2"
            ]
          },
          "metadata": {},
          "execution_count": 38
        }
      ]
    },
    {
      "cell_type": "code",
      "source": [
        "num3 = float(num2)\n",
        "num3"
      ],
      "metadata": {
        "colab": {
          "base_uri": "https://localhost:8080/"
        },
        "id": "lvEfV_tFa_Su",
        "outputId": "ce8c8c87-f16b-484a-d37a-3ffdce6db303"
      },
      "execution_count": 39,
      "outputs": [
        {
          "output_type": "execute_result",
          "data": {
            "text/plain": [
              "2.0"
            ]
          },
          "metadata": {},
          "execution_count": 39
        }
      ]
    },
    {
      "cell_type": "code",
      "source": [
        "num4 = str(num3)"
      ],
      "metadata": {
        "id": "9X21msUIbGIf"
      },
      "execution_count": 40,
      "outputs": []
    },
    {
      "cell_type": "code",
      "source": [
        "str(num3)"
      ],
      "metadata": {
        "colab": {
          "base_uri": "https://localhost:8080/",
          "height": 35
        },
        "id": "Au7mOqjcbOl_",
        "outputId": "ddbb2be7-4140-44ce-c4d9-355df9f46975"
      },
      "execution_count": 41,
      "outputs": [
        {
          "output_type": "execute_result",
          "data": {
            "text/plain": [
              "'2.0'"
            ],
            "application/vnd.google.colaboratory.intrinsic+json": {
              "type": "string"
            }
          },
          "metadata": {},
          "execution_count": 41
        }
      ]
    },
    {
      "cell_type": "code",
      "source": [
        "num4"
      ],
      "metadata": {
        "colab": {
          "base_uri": "https://localhost:8080/",
          "height": 35
        },
        "id": "YCZSVAVbbQJH",
        "outputId": "4b48636d-f43f-4221-a40d-8c452a693afd"
      },
      "execution_count": 42,
      "outputs": [
        {
          "output_type": "execute_result",
          "data": {
            "text/plain": [
              "'2.0'"
            ],
            "application/vnd.google.colaboratory.intrinsic+json": {
              "type": "string"
            }
          },
          "metadata": {},
          "execution_count": 42
        }
      ]
    },
    {
      "cell_type": "code",
      "source": [
        "a = 1\n",
        "b = 2\n",
        "c = 3\n",
        "print(a,b,c)\n",
        "print(a,[b,c])\n",
        "print([a,b,c])"
      ],
      "metadata": {
        "colab": {
          "base_uri": "https://localhost:8080/"
        },
        "id": "Lna-fZZ3cpP-",
        "outputId": "1c34a5f6-4db6-4844-97e6-f1ec0c6d388a"
      },
      "execution_count": 43,
      "outputs": [
        {
          "output_type": "stream",
          "name": "stdout",
          "text": [
            "1 2 3\n",
            "1 [2, 3]\n",
            "[1, 2, 3]\n"
          ]
        }
      ]
    },
    {
      "cell_type": "code",
      "source": [
        "print('hey', 'hi', 'hello')\n",
        "print('hey', 'hi', 'hello', sep='_')\n",
        "print('hey', 'hi', 'hello', sep='\\t')\n",
        "print('hey', 'hi', 'hello', sep='\\n')"
      ],
      "metadata": {
        "colab": {
          "base_uri": "https://localhost:8080/"
        },
        "id": "aUjX84Iwd0_G",
        "outputId": "0ee08cda-670b-46ec-e5ca-89bef95802e5"
      },
      "execution_count": 44,
      "outputs": [
        {
          "output_type": "stream",
          "name": "stdout",
          "text": [
            "hey hi hello\n",
            "hey_hi_hello\n",
            "hey\thi\thello\n",
            "hey\n",
            "hi\n",
            "hello\n"
          ]
        }
      ]
    },
    {
      "cell_type": "code",
      "source": [
        "print(123)\n",
        "print(456)"
      ],
      "metadata": {
        "colab": {
          "base_uri": "https://localhost:8080/"
        },
        "id": "gxMkx-eHfS7c",
        "outputId": "8a013971-d940-4187-9d2e-8e9b9157c4c4"
      },
      "execution_count": 45,
      "outputs": [
        {
          "output_type": "stream",
          "name": "stdout",
          "text": [
            "123\n",
            "456\n"
          ]
        }
      ]
    },
    {
      "cell_type": "code",
      "source": [
        "print(123,end=',')\n",
        "print(456)"
      ],
      "metadata": {
        "colab": {
          "base_uri": "https://localhost:8080/"
        },
        "id": "1qeNsGAtfYZ8",
        "outputId": "df4eac98-442e-40a2-e1a0-62d5aa486050"
      },
      "execution_count": 46,
      "outputs": [
        {
          "output_type": "stream",
          "name": "stdout",
          "text": [
            "123,456\n"
          ]
        }
      ]
    },
    {
      "cell_type": "code",
      "source": [
        "print('午安','同學好','打起精神來!!!', sep='_')\n",
        "print()"
      ],
      "metadata": {
        "colab": {
          "base_uri": "https://localhost:8080/"
        },
        "id": "5om8fLo4e0gs",
        "outputId": "a0246787-8a2c-4c1c-9803-fa7669ba4a42"
      },
      "execution_count": 47,
      "outputs": [
        {
          "output_type": "stream",
          "name": "stdout",
          "text": [
            "午安_同學好_打起精神來!!!\n",
            "\n"
          ]
        }
      ]
    },
    {
      "cell_type": "code",
      "source": [
        "test=input()"
      ],
      "metadata": {
        "colab": {
          "base_uri": "https://localhost:8080/"
        },
        "id": "gNodcPUfk2bo",
        "outputId": "d403679b-da3b-4e28-9985-4dcb0816c553"
      },
      "execution_count": 48,
      "outputs": [
        {
          "name": "stdout",
          "output_type": "stream",
          "text": [
            "12\n"
          ]
        }
      ]
    },
    {
      "cell_type": "code",
      "source": [
        "test"
      ],
      "metadata": {
        "colab": {
          "base_uri": "https://localhost:8080/",
          "height": 35
        },
        "id": "oOxEJsRhlBre",
        "outputId": "8e0fec9b-cb09-484e-ea14-6f9476b11d7c"
      },
      "execution_count": 49,
      "outputs": [
        {
          "output_type": "execute_result",
          "data": {
            "text/plain": [
              "'12'"
            ],
            "application/vnd.google.colaboratory.intrinsic+json": {
              "type": "string"
            }
          },
          "metadata": {},
          "execution_count": 49
        }
      ]
    },
    {
      "cell_type": "code",
      "source": [
        "test1 = int(test)+857458961878795648587549687458754879645748537489674896574895687956448758795467489567485879564895478795647489567489568795648795647489567489548759879474174747490790418879048740808704870489879046879087049879048790408947608796489858898796468704803687046870479604796041704897048967408087964741674960870489704879648889898796047048960741074198795647964857986047048960487964789087940879400417967964189674896748967489657489574895674895674896748965748907480870447089674890"
      ],
      "metadata": {
        "id": "kd70OImUlGMG"
      },
      "execution_count": 50,
      "outputs": []
    },
    {
      "cell_type": "code",
      "source": [
        "test1"
      ],
      "metadata": {
        "colab": {
          "base_uri": "https://localhost:8080/"
        },
        "id": "XeV-9POEmYSm",
        "outputId": "580f8679-ba65-45ef-d895-94204fb30f35"
      },
      "execution_count": 51,
      "outputs": [
        {
          "output_type": "execute_result",
          "data": {
            "text/plain": [
              "857458961878795648587549687458754879645748537489674896574895687956448758795467489567485879564895478795647489567489568795648795647489567489548759879474174747490790418879048740808704870489879046879087049879048790408947608796489858898796468704803687046870479604796041704897048967408087964741674960870489704879648889898796047048960741074198795647964857986047048960487964789087940879400417967964189674896748967489657489574895674895674896748965748907480870447089674902"
            ]
          },
          "metadata": {},
          "execution_count": 51
        }
      ]
    },
    {
      "cell_type": "code",
      "source": [
        "test5 = float(input())"
      ],
      "metadata": {
        "colab": {
          "base_uri": "https://localhost:8080/"
        },
        "id": "Vj_pYxkAnhFe",
        "outputId": "0e7ea0f0-5871-42ea-c70a-0e96b125e07d"
      },
      "execution_count": 52,
      "outputs": [
        {
          "name": "stdout",
          "output_type": "stream",
          "text": [
            "121.22\n"
          ]
        }
      ]
    },
    {
      "cell_type": "code",
      "source": [
        "test5"
      ],
      "metadata": {
        "colab": {
          "base_uri": "https://localhost:8080/"
        },
        "id": "adKa59LJnsUs",
        "outputId": "0096548b-c4f2-431e-9ea3-464c591f342b"
      },
      "execution_count": 53,
      "outputs": [
        {
          "output_type": "execute_result",
          "data": {
            "text/plain": [
              "121.22"
            ]
          },
          "metadata": {},
          "execution_count": 53
        }
      ]
    },
    {
      "cell_type": "code",
      "source": [
        "test5 + 12"
      ],
      "metadata": {
        "colab": {
          "base_uri": "https://localhost:8080/"
        },
        "id": "_cCL8J1hnuBk",
        "outputId": "033ee9c0-02fb-419c-b811-c0fdc30e340b"
      },
      "execution_count": 54,
      "outputs": [
        {
          "output_type": "execute_result",
          "data": {
            "text/plain": [
              "133.22"
            ]
          },
          "metadata": {},
          "execution_count": 54
        }
      ]
    },
    {
      "cell_type": "code",
      "source": [
        "c = int(input('請輸入國文成績'))\n",
        "e = int(input('請輸入英文成績'))\n",
        "m = int(input('請輸入數學成績'))\n",
        "print('你的成績為:',c + e + m)"
      ],
      "metadata": {
        "colab": {
          "base_uri": "https://localhost:8080/"
        },
        "id": "OTM7xlRsoP0t",
        "outputId": "cd6e6aff-6176-4891-d02e-6899dd68fa5d"
      },
      "execution_count": 55,
      "outputs": [
        {
          "output_type": "stream",
          "name": "stdout",
          "text": [
            "請輸入國文成績50\n",
            "請輸入英文成績0\n",
            "請輸入數學成績520\n",
            "你的成績為: 570\n"
          ]
        }
      ]
    },
    {
      "cell_type": "code",
      "source": [
        "1+1"
      ],
      "metadata": {
        "id": "UIjr9UAvr6jB",
        "colab": {
          "base_uri": "https://localhost:8080/"
        },
        "outputId": "e555f48e-19a1-4650-d76a-e2cdfaea5899"
      },
      "execution_count": 56,
      "outputs": [
        {
          "output_type": "execute_result",
          "data": {
            "text/plain": [
              "2"
            ]
          },
          "metadata": {},
          "execution_count": 56
        }
      ]
    },
    {
      "cell_type": "code",
      "source": [
        "上底 = int(input('上底'))\n",
        "下底 = int(input('下底'))\n",
        "高 = int(input('高'))\n",
        "print((上底+下底)*高/2)"
      ],
      "metadata": {
        "id": "uKFXwhHXtv__",
        "colab": {
          "base_uri": "https://localhost:8080/"
        },
        "outputId": "0cdad707-a23c-40dd-83a7-5cb3d9ca46e2"
      },
      "execution_count": 57,
      "outputs": [
        {
          "output_type": "stream",
          "name": "stdout",
          "text": [
            "上底666\n",
            "下底156\n",
            "高4\n",
            "1644.0\n"
          ]
        }
      ]
    },
    {
      "cell_type": "code",
      "source": [
        "h=int(input('請輸入身高(cm):'))\n",
        "w=int(input('請輸入體重:'))\n",
        "bmi = w/(h/100)**2\n",
        "print('身高:',h,'體重:',w,'BMI:',bmi)"
      ],
      "metadata": {
        "colab": {
          "base_uri": "https://localhost:8080/"
        },
        "id": "M6TdopRh0Pca",
        "outputId": "ded6a710-6d9e-4c06-f754-6796b3e01ff1"
      },
      "execution_count": 59,
      "outputs": [
        {
          "output_type": "stream",
          "name": "stdout",
          "text": [
            "請輸入身高(cm):180\n",
            "請輸入體重:65\n",
            "身高: 180 體重: 65 BMI: 20.061728395061728\n"
          ]
        }
      ]
    },
    {
      "cell_type": "code",
      "source": [
        "6+9==2+13"
      ],
      "metadata": {
        "colab": {
          "base_uri": "https://localhost:8080/"
        },
        "id": "7RXOfgm-2lZR",
        "outputId": "61765f64-79c2-4a7d-dfbe-0c0d992387cd"
      },
      "execution_count": 60,
      "outputs": [
        {
          "output_type": "execute_result",
          "data": {
            "text/plain": [
              "True"
            ]
          },
          "metadata": {},
          "execution_count": 60
        }
      ]
    },
    {
      "cell_type": "code",
      "source": [
        "not(3==5)"
      ],
      "metadata": {
        "colab": {
          "base_uri": "https://localhost:8080/"
        },
        "id": "FxljTXvz3q0v",
        "outputId": "9f074a0e-1a61-429b-f78c-e8f51f2d00c7"
      },
      "execution_count": 61,
      "outputs": [
        {
          "output_type": "execute_result",
          "data": {
            "text/plain": [
              "True"
            ]
          },
          "metadata": {},
          "execution_count": 61
        }
      ]
    },
    {
      "cell_type": "code",
      "source": [
        "print(9>10 and 9<11)"
      ],
      "metadata": {
        "colab": {
          "base_uri": "https://localhost:8080/"
        },
        "id": "fXo3pYxm38cG",
        "outputId": "ae2c344a-f8b5-44b7-d8f7-dfe7063264e9"
      },
      "execution_count": 62,
      "outputs": [
        {
          "output_type": "stream",
          "name": "stdout",
          "text": [
            "False\n"
          ]
        }
      ]
    },
    {
      "cell_type": "code",
      "source": [
        "print(9<10 and 9<11)"
      ],
      "metadata": {
        "colab": {
          "base_uri": "https://localhost:8080/"
        },
        "id": "FeZ_7UkZ4FyP",
        "outputId": "3e37a678-d6b9-47bc-9d1a-c2d52b7e77f4"
      },
      "execution_count": 63,
      "outputs": [
        {
          "output_type": "stream",
          "name": "stdout",
          "text": [
            "True\n"
          ]
        }
      ]
    },
    {
      "cell_type": "code",
      "source": [
        "print(9<10 and 9>11)"
      ],
      "metadata": {
        "colab": {
          "base_uri": "https://localhost:8080/"
        },
        "id": "mk7xkPbu4ICO",
        "outputId": "48a830fd-27d3-49d5-ca5b-271c79b718ee"
      },
      "execution_count": 64,
      "outputs": [
        {
          "output_type": "stream",
          "name": "stdout",
          "text": [
            "False\n"
          ]
        }
      ]
    },
    {
      "cell_type": "code",
      "source": [
        "print(9>10 and 9>11)"
      ],
      "metadata": {
        "colab": {
          "base_uri": "https://localhost:8080/"
        },
        "id": "y_5hkSlL4MBe",
        "outputId": "8cdefdf2-d2fa-469c-cfa9-1cc6a2779182"
      },
      "execution_count": 65,
      "outputs": [
        {
          "output_type": "stream",
          "name": "stdout",
          "text": [
            "False\n"
          ]
        }
      ]
    },
    {
      "cell_type": "code",
      "source": [
        "i=10\n",
        "i+=3\n",
        "i"
      ],
      "metadata": {
        "colab": {
          "base_uri": "https://localhost:8080/"
        },
        "id": "0tS0iIi55fDl",
        "outputId": "6791512c-9ef0-453e-c075-de970efda70e"
      },
      "execution_count": 67,
      "outputs": [
        {
          "output_type": "execute_result",
          "data": {
            "text/plain": [
              "13"
            ]
          },
          "metadata": {},
          "execution_count": 67
        }
      ]
    },
    {
      "cell_type": "code",
      "source": [
        "i-=i\n",
        "i"
      ],
      "metadata": {
        "colab": {
          "base_uri": "https://localhost:8080/"
        },
        "id": "TFLB6EgN7Ryl",
        "outputId": "cc96f91a-4d9d-454d-d593-ff06ad9aae79"
      },
      "execution_count": 68,
      "outputs": [
        {
          "output_type": "execute_result",
          "data": {
            "text/plain": [
              "0"
            ]
          },
          "metadata": {},
          "execution_count": 68
        }
      ]
    },
    {
      "cell_type": "code",
      "source": [
        "m = int(input('請輸入本金:'))\n",
        "y = m*1.02**6\n",
        "print('6年號存款:',y)"
      ],
      "metadata": {
        "colab": {
          "base_uri": "https://localhost:8080/"
        },
        "id": "a4yzeLMh9bO7",
        "outputId": "c4ff6907-d1e1-45a9-a486-5dea7bb38431"
      },
      "execution_count": 69,
      "outputs": [
        {
          "output_type": "stream",
          "name": "stdout",
          "text": [
            "請輸入本金:10000\n",
            "6年號存款: 11261.62419264\n"
          ]
        }
      ]
    },
    {
      "cell_type": "code",
      "source": [
        "key=1234\n",
        "n = int(input('請輸入密碼四位數:'))\n",
        "if n==key:\n",
        "  print(\"歡迎光臨\")"
      ],
      "metadata": {
        "colab": {
          "base_uri": "https://localhost:8080/"
        },
        "id": "gcs_phezAuQQ",
        "outputId": "3fc84e22-81c5-4392-b6fb-e4b519a3b498"
      },
      "execution_count": 73,
      "outputs": [
        {
          "name": "stdout",
          "output_type": "stream",
          "text": [
            "請輸入密碼四位數:1111\n"
          ]
        }
      ]
    },
    {
      "cell_type": "code",
      "source": [
        "rd = input('今天有下雨嗎?')\n",
        "if rd=='Y'or rd=='y':\n",
        "  print('請記得帶傘!')"
      ],
      "metadata": {
        "colab": {
          "base_uri": "https://localhost:8080/"
        },
        "id": "JIWFe70yCC0o",
        "outputId": "25f73d69-13e7-4de2-a152-2d84b838b3a7"
      },
      "execution_count": 74,
      "outputs": [
        {
          "output_type": "stream",
          "name": "stdout",
          "text": [
            "今天有下雨嗎?y\n",
            "請記得帶傘!\n"
          ]
        }
      ]
    },
    {
      "cell_type": "code",
      "source": [
        "key=1234\n",
        "n = int(input('請輸入密碼四位數:'))\n",
        "if n==key:\n",
        "  print(\"歡迎光臨\")\n",
        "else:\n",
        "  print('密碼錯誤!')"
      ],
      "metadata": {
        "colab": {
          "base_uri": "https://localhost:8080/"
        },
        "id": "6YYD0qeBC0Xm",
        "outputId": "8711ea5c-2e6a-4252-caf9-e5d033c7b324"
      },
      "execution_count": 76,
      "outputs": [
        {
          "output_type": "stream",
          "name": "stdout",
          "text": [
            "請輸入密碼四位數:1235\n",
            "密碼錯誤!\n"
          ]
        }
      ]
    },
    {
      "cell_type": "code",
      "source": [
        "rd = input('今天有下雨嗎?')\n",
        "if rd=='Y'or rd=='y':\n",
        "  print('請記得帶傘!')\n",
        "else:\n",
        "  print('不用帶傘!')"
      ],
      "metadata": {
        "colab": {
          "base_uri": "https://localhost:8080/"
        },
        "id": "goSlmMcXDAZW",
        "outputId": "633353bf-08bc-40f6-80c1-72eee2956c76"
      },
      "execution_count": 77,
      "outputs": [
        {
          "output_type": "stream",
          "name": "stdout",
          "text": [
            "今天有下雨嗎?d\n",
            "不用帶傘!\n"
          ]
        }
      ]
    },
    {
      "cell_type": "code",
      "source": [
        "n = int(input('請輸入一個數:'))\n",
        "if n%2==0:\n",
        "  print(n,'是偶數')\n",
        "else:\n",
        "  print(n,'是奇數')"
      ],
      "metadata": {
        "colab": {
          "base_uri": "https://localhost:8080/"
        },
        "id": "Q3ekhqZaDdnO",
        "outputId": "c9d1caf9-f222-410b-92e5-632521d041bc"
      },
      "execution_count": 79,
      "outputs": [
        {
          "output_type": "stream",
          "name": "stdout",
          "text": [
            "請輸入一個數:60\n",
            "60 是偶數\n"
          ]
        }
      ]
    },
    {
      "cell_type": "code",
      "source": [
        "tem = float(input('請樹入體溫:'))\n",
        "if tem>=37.5:\n",
        "  print('體溫過高')\n",
        "elif tem<34:\n",
        "  print('體溫異常')\n",
        "else:\n",
        "  print('體溫正常')"
      ],
      "metadata": {
        "colab": {
          "base_uri": "https://localhost:8080/"
        },
        "id": "3Tci3jRIEWNN",
        "outputId": "4c9488ff-fa8f-4804-b3f0-cd40ab66ffbe"
      },
      "execution_count": 81,
      "outputs": [
        {
          "output_type": "stream",
          "name": "stdout",
          "text": [
            "請樹入體溫:33\n",
            "體溫異常\n"
          ]
        }
      ]
    },
    {
      "cell_type": "code",
      "source": [
        "g = int(input('請輸入成績:'))\n",
        "if g>=90:\n",
        "  print('A')\n",
        "elif 80<=g<=89:\n",
        "  print('B')\n",
        "elif 70<=g<=79:\n",
        "  print('C')\n",
        "elif 60<=g<=69:\n",
        "  print('D')\n",
        "else:\n",
        "  print('E')"
      ],
      "metadata": {
        "colab": {
          "base_uri": "https://localhost:8080/"
        },
        "id": "hZhZxddFFkpE",
        "outputId": "6d4b5cb8-771f-4dbc-a614-6ba40f2bbff5"
      },
      "execution_count": 85,
      "outputs": [
        {
          "output_type": "stream",
          "name": "stdout",
          "text": [
            "請輸入成績:52\n",
            "E\n"
          ]
        }
      ]
    }
  ]
}